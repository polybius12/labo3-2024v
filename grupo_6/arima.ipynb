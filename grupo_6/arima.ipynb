{
 "cells": [
  {
   "cell_type": "code",
   "execution_count": 1,
   "id": "1d620621-bd1e-4067-91a2-0c2626fa8a82",
   "metadata": {
    "tags": []
   },
   "outputs": [],
   "source": [
    "import pandas as pd\n",
    "import numpy as np\n",
    "from tqdm import tqdm\n",
    "from math import sqrt\n",
    "import warnings\n",
    "from statsmodels.tsa.arima.model import ARIMA\n",
    "from sklearn.metrics import mean_squared_error\n",
    "from multiprocessing import Pool, cpu_count\n",
    "warnings.filterwarnings(\"ignore\")\n"
   ]
  },
  {
   "cell_type": "code",
   "execution_count": 2,
   "id": "a67a3c49-067b-4e82-b93c-33f4bf27ec6d",
   "metadata": {
    "tags": []
   },
   "outputs": [],
   "source": [
    "def format_data(df_ventas):\n",
    "    df_ventas['periodo'] = pd.to_datetime(df_ventas['periodo'], format='%Y%m')\n",
    "    df_ventas.sort_values(by='periodo', inplace=True)\n",
    "    print(df_ventas.shape)\n",
    "    df_ventas.drop_duplicates(inplace=True)\n",
    "    print(df_ventas.shape)\n",
    "    return df_ventas"
   ]
  },
  {
   "cell_type": "markdown",
   "id": "db395065-939d-4177-a75d-babf9c692e8d",
   "metadata": {},
   "source": [
    "# Load data"
   ]
  },
  {
   "cell_type": "code",
   "execution_count": 3,
   "id": "825ef1d6-dee2-48d7-a8ad-8f774a34371f",
   "metadata": {
    "tags": []
   },
   "outputs": [],
   "source": [
    "path_data = '../labo3/data/'\n",
    "df_ventas = pd.read_csv(path_data+'sell-in.txt', delimiter='\\t', decimal='.') \n",
    "df_detail = pd.read_csv(path_data+'tb_productos_descripcion.txt', delimiter='\\t')  \n",
    "df_product_to_predict = pd.read_csv(path_data+'productos_a_predecir.txt', delimiter='\\t') \n",
    "df_stocks = pd.read_csv(path_data+'tb_stocks.txt', delimiter='\\t') "
   ]
  },
  {
   "cell_type": "markdown",
   "id": "44a4ee7c-0fd1-4733-bf22-c51af44cbd4d",
   "metadata": {},
   "source": [
    "## Format data"
   ]
  },
  {
   "cell_type": "code",
   "execution_count": 4,
   "id": "2c76965b-75d5-4448-8638-9b7be9a820fd",
   "metadata": {
    "tags": []
   },
   "outputs": [
    {
     "name": "stdout",
     "output_type": "stream",
     "text": [
      "(2945818, 7)\n",
      "(2945818, 7)\n"
     ]
    }
   ],
   "source": [
    "df = format_data(df_ventas)\n",
    "df = df[df['product_id'].isin(df_product_to_predict['product_id'].to_list())]"
   ]
  },
  {
   "cell_type": "code",
   "execution_count": 5,
   "id": "06de1b6f-9bbf-4ed0-82b0-2bae5b9594d6",
   "metadata": {
    "tags": []
   },
   "outputs": [],
   "source": [
    "df = df[['periodo','customer_id','product_id','tn']]\n",
    "df = df.groupby(['periodo', 'product_id'])['tn'].sum().reset_index()"
   ]
  },
  {
   "cell_type": "markdown",
   "id": "62af8ee2-8982-4f75-b697-e2ce595f1c8c",
   "metadata": {},
   "source": [
    "## ajustando dataset"
   ]
  },
  {
   "cell_type": "code",
   "execution_count": 6,
   "id": "c87c2080-184e-490b-ad7c-e4e8f124deed",
   "metadata": {},
   "outputs": [],
   "source": [
    "df = df[df['periodo'] >= '2018-01-01']"
   ]
  },
  {
   "cell_type": "markdown",
   "id": "ec6f8730-5766-4005-8c8b-938a1850c1e1",
   "metadata": {
    "tags": []
   },
   "source": [
    "# Train loop"
   ]
  },
  {
   "cell_type": "code",
   "execution_count": 7,
   "id": "40360b86-fcdd-4ead-bcd3-57f0e4979104",
   "metadata": {},
   "outputs": [],
   "source": [
    "warnings.filterwarnings(\"ignore\")"
   ]
  },
  {
   "cell_type": "markdown",
   "id": "d0bef9ca-40e6-43dc-a22e-d80701f0e271",
   "metadata": {},
   "source": [
    "# multiprocessing"
   ]
  },
  {
   "cell_type": "code",
   "execution_count": 8,
   "id": "4c9e61f3-dd3a-4116-8a05-4a8d10a107ef",
   "metadata": {},
   "outputs": [],
   "source": [
    "def walk_forward_validation(data, order):\n",
    "    predictions = []\n",
    "    train, test = data[:int(len(data) * 0.8)], data[int(len(data) * 0.8):]\n",
    "    history = [x for x in train]\n",
    "    for t in range(len(test)):\n",
    "        model = ARIMA(history, order=order)\n",
    "        model_fit = model.fit()\n",
    "        yhat = model_fit.forecast()[0]\n",
    "        predictions.append(yhat)\n",
    "        history.append(test[t])\n",
    "    rmse = sqrt(mean_squared_error(test, predictions))\n",
    "    return rmse\n",
    "\n",
    "\n",
    "def optimize_arima(series, p_values, d_values, q_values):\n",
    "    best_score, best_cfg = float(\"inf\"), None\n",
    "    for p in p_values:\n",
    "        for d in d_values:\n",
    "            for q in q_values:\n",
    "                order = (p, d, q)\n",
    "                try:\n",
    "                    rmse = walk_forward_validation(series, order)\n",
    "                    if rmse < best_score:\n",
    "                        best_score, best_cfg = rmse, order\n",
    "                    #print('ARIMA%s RMSE=%.3f' % (order, rmse))\n",
    "                except:\n",
    "                    continue\n",
    "    return best_cfg\n",
    "\n",
    "def predict_arima(series):\n",
    "    p_values = range(0, 3)  \n",
    "    d_values = range(0, 3) \n",
    "    q_values = range(0, 3)  \n",
    "    best_params = optimize_arima(series, p_values, d_values, q_values)\n",
    "    if best_params is None:\n",
    "        return series.mean()  # Fallback \n",
    "    model = ARIMA(series, order=best_params)\n",
    "    model_fit = model.fit()\n",
    "    return model_fit.forecast(steps=2).iloc[-1]\n",
    "\n",
    "def process_products(product_ids, df):\n",
    "    results = {}\n",
    "    for prod_id in product_ids:\n",
    "        temp_list = []\n",
    "        fix_cust = df[df['product_id'] == prod_id]['tn']\n",
    "        if fix_cust.empty:\n",
    "            temp_list.append(0)\n",
    "        elif len(fix_cust) < 6:\n",
    "            temp_list.append(fix_cust.mean())\n",
    "        else:\n",
    "            temp_list.append(predict_arima(fix_cust))\n",
    "        results[prod_id] = sum(temp_list)\n",
    "    return results\n",
    "\n",
    "def chunkify(lst, n):\n",
    "    \"\"\"Yield successive n-sized chunks from lst.\"\"\"\n",
    "    for i in range(0, len(lst), n):\n",
    "        yield lst[i:i + n]"
   ]
  },
  {
   "cell_type": "code",
   "execution_count": null,
   "id": "6031fc3f-3ff3-4bd8-8673-589a4ecbe5d1",
   "metadata": {},
   "outputs": [],
   "source": [
    "if __name__ == '__main__':\n",
    "    df['periodo'] = pd.to_datetime(df['periodo'])\n",
    "    df.set_index('periodo', inplace=True)\n",
    "\n",
    "    product_ids = df['product_id'].unique()\n",
    "    num_cores = 96  \n",
    "    chunk_size = len(product_ids) // num_cores\n",
    "    chunks = list(chunkify(product_ids, chunk_size))\n",
    "\n",
    "    with Pool(num_cores) as pool:\n",
    "        results = pool.starmap(process_products, [(chunk, df) for chunk in chunks])\n",
    "  \n",
    "    final_dict = {}\n",
    "    for result in results:\n",
    "        final_dict.update(result)"
   ]
  },
  {
   "cell_type": "code",
   "execution_count": null,
   "id": "25b2ac64-30f9-4a03-a27e-70777065bfea",
   "metadata": {},
   "outputs": [],
   "source": [
    "pd.DataFrame.from_dict(final_dict,orient='index').reset_index().rename(columns={'index': 'product_id', 0:'tn'}).to_csv('arima_optimal_12_months.csv', index=False)"
   ]
  },
  {
   "cell_type": "code",
   "execution_count": null,
   "id": "088c89c4-a3d3-41f2-8d98-2dc21e883b1c",
   "metadata": {},
   "outputs": [],
   "source": []
  }
 ],
 "metadata": {
  "kernelspec": {
   "display_name": "Python 3 (ipykernel)",
   "language": "python",
   "name": "python3"
  },
  "language_info": {
   "codemirror_mode": {
    "name": "ipython",
    "version": 3
   },
   "file_extension": ".py",
   "mimetype": "text/x-python",
   "name": "python",
   "nbconvert_exporter": "python",
   "pygments_lexer": "ipython3",
   "version": "3.10.10"
  }
 },
 "nbformat": 4,
 "nbformat_minor": 5
}
